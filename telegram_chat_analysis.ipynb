{
 "cells": [
  {
   "cell_type": "code",
   "execution_count": null,
   "id": "8f9278e3",
   "metadata": {},
   "outputs": [],
   "source": [
    "# Install libraries required\n",
    "import regex as re\n",
    "import pandas as pd\n",
    "from datetime import datetime\n",
    "import numpy as np\n",
    "import emoji\n",
    "import plotly.express as px\n",
    "from collections import Counter\n",
    "import matplotlib.pyplot as plt\n",
    "from os import path\n",
    "from PIL import Image\n",
    "from wordcloud import WordCloud, STOPWORDS, ImageColorGenerator \n",
    "% matplotlib inline\n",
    "import json\n",
    "import nltk\n",
    "nltk.download('stopwords')\n",
    "from nltk.corpus import stopwords"
   ]
  },
  {
   "cell_type": "code",
   "execution_count": null,
   "id": "83d66c11",
   "metadata": {},
   "outputs": [],
   "source": [
    "# Reading data-file\n",
    "with open('C:/file_path.json', encoding='utf-8') as f:\n",
    "    data = json.load(f)\n",
    "\n",
    "df = pd.DataFrame(list(dataframe))"
   ]
  },
  {
   "cell_type": "code",
   "execution_count": null,
   "id": "b92510f9",
   "metadata": {},
   "outputs": [],
   "source": [
    "# Select required columns\n",
    "df = df[['date', 'from', 'text']]"
   ]
  },
  {
   "cell_type": "code",
   "execution_count": null,
   "id": "9ee650e3",
   "metadata": {},
   "outputs": [],
   "source": [
    "df.info()"
   ]
  },
  {
   "cell_type": "code",
   "execution_count": null,
   "id": "5f4e6bbf",
   "metadata": {},
   "outputs": [],
   "source": [
    "# Working with datetime format\n",
    "df[\"date\"] = pd.to_datetime(df[\"date\"], format=\"%Y-%m-%d %H:%M:%S\")"
   ]
  },
  {
   "cell_type": "code",
   "execution_count": null,
   "id": "93466013",
   "metadata": {},
   "outputs": [],
   "source": [
    "# Descriptive chat statistics\n",
    "\n",
    "df['text'] = df['text'].astype(\"string\")\n",
    "total_messages = df['text'].count()\n",
    "\n",
    "def split_count(text):\n",
    "\n",
    "    emoji_list = []\n",
    "    data = regex.findall(r'\\X', text)\n",
    "    for word in data:\n",
    "        if word in emoji.UNICODE_EMOJI['en'].keys():\n",
    "            emoji_list.append(word)\n",
    "\n",
    "    return emoji_list\n",
    "\n",
    "\n",
    "df['emoji'] = df['text'].apply(split_count)\n",
    "emojis = sum(df['emoji'].str.len())\n",
    "\n",
    "URLPATTERN = r'(https?://\\S+)'\n",
    "df['urlcount'] = df.text.apply(lambda x: re.findall(URLPATTERN, x)).str.len()\n",
    "\n",
    "links = np.sum(df.urlcount)\n",
    "\n",
    "media_messages = df[df['text'] == ''].shape[0]\n",
    "\n",
    "print(\"Put_your_chat_name_here\")\n",
    "print(\"Messages:\", total_messages)\n",
    "print(\"Emojis:\", emojis)\n",
    "print(\"Links:\", links)\n",
    "print(\"Media\", media_messages)"
   ]
  },
  {
   "cell_type": "code",
   "execution_count": null,
   "id": "babb623f",
   "metadata": {},
   "outputs": [],
   "source": [
    "# Descriptive statistics for each chat member\n",
    "\n",
    "media_messages_df = df[df['text'] == '']\n",
    "messages_df = df.drop(media_messages_df.index)\n",
    "messages_df['Letter_Count'] = messages_df['text'].apply(lambda s : len(s))\n",
    "messages_df['Word_Count'] = messages_df['text'].apply(lambda s : len(s.split(' ')))\n",
    "messages_df[\"MessageCount\"] = 1\n",
    "\n",
    "l = ['member_1', 'member_2', 'member_3','etc']\n",
    "\n",
    "for i in range(len(l)):\n",
    "    \n",
    "    # Filter messages by a specific member\n",
    "    req_df = messages_df[messages_df['from'] == l[i]]\n",
    "    print(f'Stats of {l[i]} -')\n",
    "  \n",
    "    # shape prints the number of lines = the number of messages sent by the member\n",
    "    print('Messages Sent', req_df.shape[0])\n",
    "    \n",
    "    # Word_Count = the total number of words in one message sent by the member\n",
    "    # words_per_message = Word_Count / the total number of messages by member\n",
    "    words_per_message = (np.sum(req_df['Word_Count']))/req_df.shape[0]\n",
    "    print('Words per message', words_per_message)\n",
    "    \n",
    "    # media = media messages sent by the member\n",
    "    media = media_messages_df[media_messages_df['from'] == l[i]].shape[0]\n",
    "    print('Media Messages Sent', media)\n",
    "    \n",
    "    # emojis = total emojis sent by the member\n",
    "    emojis = sum(req_df['emoji'].str.len())\n",
    "    print('Emojis Sent', emojis)\n",
    "    \n",
    "    #links = total links sent by the member\n",
    "    links = sum(req_df[\"urlcount\"])   \n",
    "    print('Links Sent', links)   \n",
    "    \n",
    "    print()"
   ]
  },
  {
   "cell_type": "code",
   "execution_count": null,
   "id": "2e967667",
   "metadata": {},
   "outputs": [],
   "source": [
    "# Chat word cloud\n",
    "\n",
    "text = \" \".join(review for review in messages_df.text)\n",
    "print (\"There are {} words in all the messages.\".format(len(text)))\n",
    "\n",
    "wordcloud = WordCloud(stopwords=stop_words, background_color=\"white\").generate(text)\n",
    "\n",
    "plt.figure( figsize=(10, 5))\n",
    "plt.imshow(wordcloud, interpolation='bilinear')\n",
    "plt.axis(\"off\")\n",
    "plt.show()"
   ]
  },
  {
   "cell_type": "code",
   "execution_count": null,
   "id": "707a8d68",
   "metadata": {},
   "outputs": [],
   "source": [
    "# Word cloud for each chat member\n",
    "\n",
    "l = ['member_1', 'member_2', 'member_3','etc']\n",
    "\n",
    "for i in range(len(l)):\n",
    "    dummy_df = messages_df[messages_df['from'] == l[i]]\n",
    "    text = \" \".join(review for review in dummy_df.text)\n",
    "    stop_words = stopwords.words('russian')\n",
    "    stop_words.extend(['что', 'это', 'так', 'вот', 'быть', 'как', 'в', '—', '–', 'к', 'на', '...'])\n",
    "\n",
    "    print('Author name', l[i])\n",
    "    wordcloud = WordCloud(stopwords=stop_words, background_color=\"white\").generate(text)\n",
    "  \n",
    "    plt.figure(figsize=(10,5))\n",
    "    plt.imshow(wordcloud, interpolation='bilinear')\n",
    "    plt.axis(\"off\")\n",
    "    plt.show()"
   ]
  }
 ],
 "metadata": {
  "kernelspec": {
   "display_name": "Python 3 (ipykernel)",
   "language": "python",
   "name": "python3"
  },
  "language_info": {
   "codemirror_mode": {
    "name": "ipython",
    "version": 3
   },
   "file_extension": ".py",
   "mimetype": "text/x-python",
   "name": "python",
   "nbconvert_exporter": "python",
   "pygments_lexer": "ipython3",
   "version": "3.9.12"
  }
 },
 "nbformat": 4,
 "nbformat_minor": 5
}
